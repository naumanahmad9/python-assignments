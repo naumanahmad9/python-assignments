{
 "cells": [
  {
   "cell_type": "code",
   "execution_count": 5,
   "metadata": {},
   "outputs": [
    {
     "name": "stdout",
     "output_type": "stream",
     "text": [
      "Enter marks obtained in 5 subjects: \n",
      "50\n",
      "60\n",
      "70\n",
      "80\n",
      "90\n",
      "Your Grade is B\n"
     ]
    }
   ],
   "source": [
    "print(\"Enter marks obtained in 5 subjects: \");\n",
    "\n",
    "mark1 = int(input());\n",
    "mark2 = int(input());\n",
    "mark3 = int(input());\n",
    "mark4 = int(input());\n",
    "mark5 = int(input());\n",
    "sum = mark1 + mark2 + mark3 + mark4 + mark5;\n",
    "average = sum/5;\n",
    "if(average>=91 and average<=100):\n",
    "        print(\"Your Grade is A+\");\n",
    "elif(average>=81 and average<=90):\n",
    "        print(\"Your Grade is A\");\n",
    "elif(average>=71 and average<=80):\n",
    "        print(\"Your Grade is B+\");\n",
    "elif(average>=61 and average<=70):\n",
    "        print(\"Your Grade is B\");\n",
    "elif(average>=51 and average<=60):\n",
    "        print(\"Your Grade is C+\");\n",
    "elif(average>=41 and average<=50):\n",
    "        print(\"Your Grade is C\");\n",
    "elif(average>=0 and average<=40):\n",
    "        print(\"Your Grade is F\");\n",
    "else:\n",
    "        print(\"Strange Grade..!!\");"
   ]
  },
  {
   "cell_type": "code",
   "execution_count": 6,
   "metadata": {},
   "outputs": [
    {
     "name": "stdout",
     "output_type": "stream",
     "text": [
      "Enter a number: 1\n",
      "This is an odd number.\n"
     ]
    }
   ],
   "source": [
    "num = int(input(\"Enter a number: \"))\n",
    "mod = num % 2\n",
    "if mod > 0:\n",
    "    print(\"This is an odd number.\")\n",
    "else:\n",
    "    print(\"This is an even number.\")"
   ]
  },
  {
   "cell_type": "code",
   "execution_count": 7,
   "metadata": {},
   "outputs": [
    {
     "name": "stdout",
     "output_type": "stream",
     "text": [
      "The length of list is:  3\n"
     ]
    }
   ],
   "source": [
    "n = len([10, 20, 30]) \n",
    "print(\"The length of list is: \", n) "
   ]
  },
  {
   "cell_type": "code",
   "execution_count": 8,
   "metadata": {},
   "outputs": [
    {
     "name": "stdout",
     "output_type": "stream",
     "text": [
      "20\n"
     ]
    }
   ],
   "source": [
    "def sum(numbers):\n",
    "    total = 0\n",
    "    for x in numbers:\n",
    "        total += x\n",
    "    return total\n",
    "\n",
    "print(sum((8, 2, 3, 0, 7)))"
   ]
  },
  {
   "cell_type": "code",
   "execution_count": 10,
   "metadata": {},
   "outputs": [
    {
     "name": "stdout",
     "output_type": "stream",
     "text": [
      "Largest element is: 99\n"
     ]
    }
   ],
   "source": [
    "list1 = [10, 4, 5, 99, 1] \n",
    "\n",
    "print(\"Largest element is:\", max(list1))"
   ]
  },
  {
   "cell_type": "code",
   "execution_count": 12,
   "metadata": {},
   "outputs": [
    {
     "name": "stdout",
     "output_type": "stream",
     "text": [
      "[1, 1, 2, 3]\n"
     ]
    }
   ],
   "source": [
    "a = [1, 1, 2, 3, 5, 8, 13, 21, 34, 55, 89]\n",
    "\n",
    "new_list = []\n",
    "\n",
    "for item in a:\n",
    "  \n",
    "    if item < 5:\n",
    "    \n",
    "        new_list.append(item)\n",
    "\n",
    "print(new_list)"
   ]
  },
  {
   "cell_type": "code",
   "execution_count": null,
   "metadata": {},
   "outputs": [],
   "source": []
  }
 ],
 "metadata": {
  "kernelspec": {
   "display_name": "Python 3",
   "language": "python",
   "name": "python3"
  },
  "language_info": {
   "codemirror_mode": {
    "name": "ipython",
    "version": 3
   },
   "file_extension": ".py",
   "mimetype": "text/x-python",
   "name": "python",
   "nbconvert_exporter": "python",
   "pygments_lexer": "ipython3",
   "version": "3.7.4"
  }
 },
 "nbformat": 4,
 "nbformat_minor": 2
}
