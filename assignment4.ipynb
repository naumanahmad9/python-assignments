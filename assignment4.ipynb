{
 "cells": [
  {
   "cell_type": "code",
   "execution_count": 1,
   "metadata": {},
   "outputs": [
    {
     "name": "stdout",
     "output_type": "stream",
     "text": [
      "Enter first name : John\n",
      "Enter last name : Doe\n",
      "Enter the age : 10\n",
      "Enter the city : Khi\n",
      "{'first_name': 'John', 'last_name': 'Doe', 'age': '10', 'city': 'Khi'}\n",
      " \n",
      "{'first_name': 'John', 'last_name': 'Doe', 'age': '10', 'city': 'Khi', 'qualification': 'high academic level'}\n",
      " \n",
      "{'first_name': 'John', 'last_name': 'Doe', 'age': '10', 'city': 'Khi'}\n"
     ]
    }
   ],
   "source": [
    "# Assignment 4\n",
    "# Question 1\n",
    "    \n",
    "info = {}\n",
    "\n",
    "fname = input(\"Enter first name : \")\n",
    "lname = input(\"Enter last name : \")\n",
    "age = input(\"Enter the age : \")\n",
    "city = input(\"Enter the city : \")\n",
    "\n",
    "info[\"first_name\"] = fname\n",
    "info[\"last_name\"] = lname\n",
    "info[\"age\"] = age\n",
    "info[\"city\"] = city\n",
    "\n",
    "print(info)\n",
    "print(\" \")\n",
    "\n",
    "info[\"qualification\"] = \"high academic level\"\n",
    "\n",
    "print(info)\n",
    "print(\" \")\n",
    "\n",
    "del info[\"qualification\"]\n",
    "\n",
    "print(info)"
   ]
  },
  {
   "cell_type": "code",
   "execution_count": 7,
   "metadata": {},
   "outputs": [
    {
     "name": "stdout",
     "output_type": "stream",
     "text": [
      "\n",
      "city: Dubai\n",
      "country: UAE\n",
      "population: 3137000\n",
      "fact: It has the tallest building in the world\n",
      "\n",
      "city: New York\n",
      "country: USA\n",
      "population: 8623000\n",
      "fact: It is called the concrete jungle because of many skyscrapers in the city\n",
      "\n",
      "city: Damascus\n",
      "country: Syria\n",
      "population: 1711000\n",
      "fact: Widely believed to be the oldest city in the world\n"
     ]
    }
   ],
   "source": [
    "# Question 2\n",
    "    \n",
    "cities = {\"Dubai\": {'country': 'UAE', 'population': '3137000', 'fact': 'It has the tallest building in the world'},\n",
    "         \"New York\": {'country': 'USA', 'population': '8623000', 'fact': 'It is called the concrete jungle because of many skyscrapers in the city' },\n",
    "         \"Damascus\": {'country': 'Syria', 'population': '1711000', 'fact': 'Widely believed to be the oldest city in the world'}}\n",
    "\n",
    "for city, city_info in cities.items():\n",
    "    print(\"\\n\" + \"city: \" + city)\n",
    "    \n",
    "    for key in city_info:\n",
    "        print(key + ': ' + city_info[key])"
   ]
  },
  {
   "cell_type": "code",
   "execution_count": null,
   "metadata": {},
   "outputs": [],
   "source": [
    "# Question 3\n",
    "\n",
    "prompt = \"Enter 'quit' when you are finished.\"\n",
    "prompt += \"\\nHow old are you?\"\n",
    "\n",
    "while True:\n",
    "    age = input(prompt)\n",
    "    if age == 'quit':\n",
    "        break\n",
    "    age = int(age)\n",
    "\n",
    "    if age < 3:\n",
    "        print(\"  You get in free!\")\n",
    "    elif age < 13:\n",
    "        print(\"  Your ticket is $10.\")\n",
    "    else:\n",
    "        print(\"  Your ticket is $15.\")"
   ]
  },
  {
   "cell_type": "code",
   "execution_count": null,
   "metadata": {},
   "outputs": [],
   "source": [
    "# Question 4\n",
    "\n",
    "def favorite_book(title):\n",
    "    print(\"One of my favorite books is \" + title + \".\")\n",
    "\n",
    "favorite_book('Alice in Wonderland')"
   ]
  },
  {
   "cell_type": "code",
   "execution_count": null,
   "metadata": {},
   "outputs": [],
   "source": [
    "# Question 5\n",
    "\n",
    "import random\n",
    "\n",
    "guessesTaken = 0\n",
    "\n",
    "number = random.randint(1, 30)\n",
    "\n",
    "print('I am thinking of a number between 1 and 30.')\n",
    "\n",
    "while guessesTaken < 3:\n",
    "\n",
    "    print('Take a guess.')\n",
    "\n",
    "    guess = input()\n",
    "\n",
    "    guess = int(guess)\n",
    "\n",
    "    guessesTaken = guessesTaken + 1\n",
    "\n",
    "    if guess < number:\n",
    "      print('Your guess is too low.') \n",
    "    if guess > number:\n",
    "      print('Your guess is too high.')\n",
    "    if guess == number:\n",
    "      break\n",
    "\n",
    "if guess == number:\n",
    "    guessesTaken = str(guessesTaken)\n",
    "    print('Good job, ! You guessed my number in ' + guessesTaken + ' guesses!')\n",
    "if guess != number:\n",
    "    number = str(number)\n",
    "    print('Game over! The number I was thinking of was ' + number)"
   ]
  },
  {
   "cell_type": "code",
   "execution_count": null,
   "metadata": {},
   "outputs": [],
   "source": []
  }
 ],
 "metadata": {
  "kernelspec": {
   "display_name": "Python 3",
   "language": "python",
   "name": "python3"
  },
  "language_info": {
   "codemirror_mode": {
    "name": "ipython",
    "version": 3
   },
   "file_extension": ".py",
   "mimetype": "text/x-python",
   "name": "python",
   "nbconvert_exporter": "python",
   "pygments_lexer": "ipython3",
   "version": "3.7.4"
  }
 },
 "nbformat": 4,
 "nbformat_minor": 2
}
