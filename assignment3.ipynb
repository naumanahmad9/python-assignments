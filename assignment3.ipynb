{
 "cells": [
  {
   "cell_type": "code",
   "execution_count": null,
   "metadata": {},
   "outputs": [],
   "source": [
    "# Python program for simple calculator \n",
    "  \n",
    "# Function to add two numbers  \n",
    "def add(num1, num2): \n",
    "    return num1 + num2 \n",
    "  \n",
    "# Function to subtract two numbers  \n",
    "def subtract(num1, num2): \n",
    "    return num1 - num2 \n",
    "  \n",
    "# Function to multiply two numbers \n",
    "def multiply(num1, num2): \n",
    "    return num1 * num2 \n",
    "  \n",
    "# Function to divide two numbers \n",
    "def divide(num1, num2): \n",
    "    return num1 / num2 \n",
    "\n",
    "# Function to raise a number by a power\n",
    "def power(num1, num2): \n",
    "    return num1 ** num2 \n",
    "  \n",
    "print(\"Please select operation -\\n\"  \n",
    "        \"1. Add\\n\"  \n",
    "        \"2. Subtract\\n\"  \n",
    "        \"3. Multiply\\n\"  \n",
    "        \"4. Divide\\n\" \n",
    "        \"5. Power\\n\") \n",
    "  \n",
    "# Take input from the user  \n",
    "select = input(\"Select operations form 1, 2, 3, 4, 5: \") \n",
    "  \n",
    "number_1 = int(input(\"Enter first number: \")) \n",
    "number_2 = int(input(\"Enter second number: \")) \n",
    "  \n",
    "if select == '1': \n",
    "    print(number_1, \"+\", number_2, \"=\", add(number_1, number_2)) \n",
    "elif select == '2': \n",
    "    print(number_1, \"-\", number_2, \"=\", subtract(number_1, number_2)) \n",
    "elif select == '3': \n",
    "    print(number_1, \"*\", number_2, \"=\", multiply(number_1, number_2)) \n",
    "elif select == '4': \n",
    "    print(number_1, \"/\", number_2, \"=\", divide(number_1, number_2)) \n",
    "elif select == '5': \n",
    "    print(number_1, \"**\", number_2, \"=\", power(number_1, number_2)) \n",
    "else: \n",
    "    print(\"Invalid input\") "
   ]
  },
  {
   "cell_type": "code",
   "execution_count": null,
   "metadata": {},
   "outputs": [],
   "source": [
    "# check if there is any numeric value in list using for loop\n",
    "def solve(lis):\n",
    "    for x in lis:\n",
    "        try:\n",
    "            float(x)\n",
    "            return True\n",
    "        except:\n",
    "            return False\n",
    "        \n",
    "mylist = ['1','orange','2', 'A', '1.5']\n",
    "\n",
    "print([x for x in mylist if solve(x)])\n"
   ]
  },
  {
   "cell_type": "code",
   "execution_count": null,
   "metadata": {},
   "outputs": [],
   "source": [
    "# add a key to a dictionary\n",
    "d = {0:10, 1:20}\n",
    "\n",
    "print(d)\n",
    "\n",
    "d.update({2:30})\n",
    "\n",
    "print(d)"
   ]
  },
  {
   "cell_type": "code",
   "execution_count": null,
   "metadata": {},
   "outputs": [],
   "source": [
    "# program to sum all the numeric items in a dictionary\n",
    "\n",
    "def returnSum(dict): \n",
    "      \n",
    "     sum = 0\n",
    "     for i in dict: \n",
    "           sum = sum + dict[i] \n",
    "       \n",
    "     return sum\n",
    "\n",
    "dict = {'a': 100, 'b':200, 'c':300} \n",
    "\n",
    "print(\"Sum :\", returnSum(dict)) "
   ]
  },
  {
   "cell_type": "code",
   "execution_count": null,
   "metadata": {},
   "outputs": [],
   "source": [
    "# program to identify duplicate values from list\n",
    "def Repeat(x): \n",
    "    _size = len(x) \n",
    "    repeated = [] \n",
    "    for i in range(_size): \n",
    "        k = i + 1\n",
    "        for j in range(k, _size): \n",
    "            if x[i] == x[j] and x[i] not in repeated: \n",
    "                repeated.append(x[i]) \n",
    "    return repeated \n",
    "  \n",
    "list1 = [10, 20, 30, 20, 20, 30, 40,  \n",
    "         50, -20, 60, 60, -20, -20] \n",
    "print (Repeat(list1)) "
   ]
  },
  {
   "cell_type": "code",
   "execution_count": null,
   "metadata": {},
   "outputs": [],
   "source": [
    "# a Python script to check if a given key already exists in a dictionary\n",
    "def checkKey(dict, key): \n",
    "      \n",
    "    if key in dict.keys(): \n",
    "        print(\"Present, \", end =\" \") \n",
    "        print(\"value =\", dict[key]) \n",
    "    else: \n",
    "        print(\"Not present\") \n",
    "  \n",
    "dict = {'a': 100, 'b':200, 'c':300} \n",
    "  \n",
    "key = 'b'\n",
    "checkKey(dict, key) "
   ]
  }
 ],
 "metadata": {
  "kernelspec": {
   "display_name": "Python 3",
   "language": "python",
   "name": "python3"
  },
  "language_info": {
   "codemirror_mode": {
    "name": "ipython",
    "version": 3
   },
   "file_extension": ".py",
   "mimetype": "text/x-python",
   "name": "python",
   "nbconvert_exporter": "python",
   "pygments_lexer": "ipython3",
   "version": "3.7.4"
  }
 },
 "nbformat": 4,
 "nbformat_minor": 2
}
