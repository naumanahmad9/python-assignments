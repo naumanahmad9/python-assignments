{
 "cells": [
  {
   "cell_type": "code",
   "execution_count": 3,
   "metadata": {},
   "outputs": [
    {
     "name": "stdout",
     "output_type": "stream",
     "text": [
      "Enter a number to calculate the factorial : 2\n",
      "The factorial of 2 is 2\n"
     ]
    }
   ],
   "source": [
    "# Question 1\n",
    "\n",
    "def factorial(num):\n",
    "    if num == 0:\n",
    "        return 1\n",
    "    elif num < 0:\n",
    "        print(\"Enter a non-negative integer.\")\n",
    "    else:\n",
    "        return num * factorial(num-1)\n",
    "    \n",
    "n = int(input(\"Enter a number to calculate the factorial : \"))\n",
    "\n",
    "print(\"The factorial of %s is %s\" % (n, factorial(n)))"
   ]
  },
  {
   "cell_type": "code",
   "execution_count": 6,
   "metadata": {},
   "outputs": [
    {
     "name": "stdout",
     "output_type": "stream",
     "text": [
      "Enter a string: asas\n",
      "String :  asas\n",
      "No. of Upper case characters :  0\n",
      "No. of Lower case Characters :  4\n"
     ]
    }
   ],
   "source": [
    "# Question 2\n",
    "\n",
    "def string_test(s):\n",
    "    d = {\"upper_case\": 0, \"lower_case\": 0}\n",
    "    for c in s:\n",
    "        if c.isupper():\n",
    "           d[\"upper_case\"]+=1\n",
    "        elif c.islower():\n",
    "           d[\"lower_case\"]+=1\n",
    "        else:\n",
    "           pass\n",
    "    print (\"String : \", s)\n",
    "    print (\"No. of Upper case characters : \", d[\"upper_case\"])\n",
    "    print (\"No. of Lower case characters : \", d[\"lower_case\"])\n",
    "\n",
    "str = input(\"Enter a string: \")\n",
    "\n",
    "string_test(str)"
   ]
  },
  {
   "cell_type": "code",
   "execution_count": 7,
   "metadata": {},
   "outputs": [
    {
     "name": "stdout",
     "output_type": "stream",
     "text": [
      "2 4 100 "
     ]
    }
   ],
   "source": [
    "# Question 3\n",
    "\n",
    "list1 = [1, 2, 3, 4, 11, 100] \n",
    "  \n",
    "for num in list1: \n",
    "    if num % 2 == 0: \n",
    "       print(num, end = \" \") "
   ]
  },
  {
   "cell_type": "code",
   "execution_count": 9,
   "metadata": {},
   "outputs": [
    {
     "name": "stdout",
     "output_type": "stream",
     "text": [
      "True\n"
     ]
    }
   ],
   "source": [
    "# Question 4\n",
    "\n",
    "def isPalindrome(string):\n",
    "    left_pos = 0\n",
    "    right_pos = len(string) - 1\n",
    "\n",
    "    while right_pos >= left_pos:\n",
    "        if not string[left_pos] == string[right_pos]:\n",
    "            return False\n",
    "        left_pos += 1\n",
    "        right_pos -= 1\n",
    "    return True\n",
    "\n",
    "print(isPalindrome('madam')) "
   ]
  },
  {
   "cell_type": "code",
   "execution_count": 11,
   "metadata": {},
   "outputs": [
    {
     "name": "stdout",
     "output_type": "stream",
     "text": [
      "True\n"
     ]
    }
   ],
   "source": [
    "# Question 5\n",
    "\n",
    "def test_prime(n):\n",
    "    if (n==1):\n",
    "        return False\n",
    "    elif (n==2):\n",
    "        return True;\n",
    "    else:\n",
    "        for x in range(2,n):\n",
    "            if(n % x==0):\n",
    "                return False\n",
    "        return True\n",
    "\n",
    "print(test_prime(11))"
   ]
  },
  {
   "cell_type": "code",
   "execution_count": 12,
   "metadata": {},
   "outputs": [
    {
     "name": "stdout",
     "output_type": "stream",
     "text": [
      "Your shopping list : \n",
      "['Milk', 'Banana', 'Apple']\n"
     ]
    }
   ],
   "source": [
    "# Question 6\n",
    "\n",
    "user_shopping_list = [\"Milk\",\"Banana\",\"Apple\"]\n",
    "\n",
    "def display_shopping_list(*input):\n",
    "  print(\"User shopping list : \")\n",
    "  print(*input)\n",
    "\n",
    "display_shopping_list(user_shopping_list)\n"
   ]
  },
  {
   "cell_type": "code",
   "execution_count": null,
   "metadata": {},
   "outputs": [],
   "source": []
  }
 ],
 "metadata": {
  "kernelspec": {
   "display_name": "Python 3",
   "language": "python",
   "name": "python3"
  },
  "language_info": {
   "codemirror_mode": {
    "name": "ipython",
    "version": 3
   },
   "file_extension": ".py",
   "mimetype": "text/x-python",
   "name": "python",
   "nbconvert_exporter": "python",
   "pygments_lexer": "ipython3",
   "version": "3.7.4"
  }
 },
 "nbformat": 4,
 "nbformat_minor": 2
}
